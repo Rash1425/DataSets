{
 "cells": [
  {
   "cell_type": "code",
   "execution_count": 5,
   "metadata": {},
   "outputs": [],
   "source": [
    "import pandas as pd\n",
    "import numpy as np\n",
    "import seaborn as sns\n",
    "import matplotlib.pyplot as plt"
   ]
  },
  {
   "cell_type": "code",
   "execution_count": 6,
   "metadata": {},
   "outputs": [],
   "source": [
    "#Uploading All the data files\n",
    "\n",
    "cab_data = pd.read_csv('C:\\\\Users\\\\Rashmikant\\\\Desktop\\\\Data_Galcier\\\\DataSets\\\\Cab_Data.csv')\n",
    "customer_id = pd.read_csv('C:\\\\Users\\\\Rashmikant\\\\Desktop\\\\Data_Galcier\\\\DataSets\\\\Customer_ID.csv')\n",
    "transaction_id =pd.read_csv('C:\\\\Users\\\\Rashmikant\\\\Desktop\\\\Data_Galcier\\\\DataSets\\\\Transaction_ID.csv')"
   ]
  },
  {
   "cell_type": "code",
   "execution_count": 7,
   "metadata": {},
   "outputs": [],
   "source": [
    "City = pd.read_csv('C:\\\\Users\\\\Rashmikant\\\\Desktop\\\\Data_Galcier\\\\DataSets\\\\City.csv')"
   ]
  },
  {
   "cell_type": "code",
   "execution_count": 8,
   "metadata": {},
   "outputs": [
    {
     "data": {
      "text/html": [
       "<div>\n",
       "<style scoped>\n",
       "    .dataframe tbody tr th:only-of-type {\n",
       "        vertical-align: middle;\n",
       "    }\n",
       "\n",
       "    .dataframe tbody tr th {\n",
       "        vertical-align: top;\n",
       "    }\n",
       "\n",
       "    .dataframe thead th {\n",
       "        text-align: right;\n",
       "    }\n",
       "</style>\n",
       "<table border=\"1\" class=\"dataframe\">\n",
       "  <thead>\n",
       "    <tr style=\"text-align: right;\">\n",
       "      <th></th>\n",
       "      <th>Transaction ID</th>\n",
       "      <th>Date of Travel</th>\n",
       "      <th>Company</th>\n",
       "      <th>City</th>\n",
       "      <th>KM Travelled</th>\n",
       "      <th>Price Charged</th>\n",
       "      <th>Cost of Trip</th>\n",
       "    </tr>\n",
       "  </thead>\n",
       "  <tbody>\n",
       "    <tr>\n",
       "      <th>0</th>\n",
       "      <td>10000011</td>\n",
       "      <td>08-01-2016</td>\n",
       "      <td>Pink Cab</td>\n",
       "      <td>ATLANTA GA</td>\n",
       "      <td>30.45</td>\n",
       "      <td>370.95</td>\n",
       "      <td>313.635</td>\n",
       "    </tr>\n",
       "    <tr>\n",
       "      <th>1</th>\n",
       "      <td>10000012</td>\n",
       "      <td>06-01-2016</td>\n",
       "      <td>Pink Cab</td>\n",
       "      <td>ATLANTA GA</td>\n",
       "      <td>28.62</td>\n",
       "      <td>358.52</td>\n",
       "      <td>334.854</td>\n",
       "    </tr>\n",
       "    <tr>\n",
       "      <th>2</th>\n",
       "      <td>10000013</td>\n",
       "      <td>02-01-2016</td>\n",
       "      <td>Pink Cab</td>\n",
       "      <td>ATLANTA GA</td>\n",
       "      <td>9.04</td>\n",
       "      <td>125.20</td>\n",
       "      <td>97.632</td>\n",
       "    </tr>\n",
       "    <tr>\n",
       "      <th>3</th>\n",
       "      <td>10000014</td>\n",
       "      <td>07-01-2016</td>\n",
       "      <td>Pink Cab</td>\n",
       "      <td>ATLANTA GA</td>\n",
       "      <td>33.17</td>\n",
       "      <td>377.40</td>\n",
       "      <td>351.602</td>\n",
       "    </tr>\n",
       "    <tr>\n",
       "      <th>4</th>\n",
       "      <td>10000015</td>\n",
       "      <td>03-01-2016</td>\n",
       "      <td>Pink Cab</td>\n",
       "      <td>ATLANTA GA</td>\n",
       "      <td>8.73</td>\n",
       "      <td>114.62</td>\n",
       "      <td>97.776</td>\n",
       "    </tr>\n",
       "  </tbody>\n",
       "</table>\n",
       "</div>"
      ],
      "text/plain": [
       "   Transaction ID Date of Travel   Company        City  KM Travelled  \\\n",
       "0        10000011     08-01-2016  Pink Cab  ATLANTA GA         30.45   \n",
       "1        10000012     06-01-2016  Pink Cab  ATLANTA GA         28.62   \n",
       "2        10000013     02-01-2016  Pink Cab  ATLANTA GA          9.04   \n",
       "3        10000014     07-01-2016  Pink Cab  ATLANTA GA         33.17   \n",
       "4        10000015     03-01-2016  Pink Cab  ATLANTA GA          8.73   \n",
       "\n",
       "   Price Charged  Cost of Trip  \n",
       "0         370.95       313.635  \n",
       "1         358.52       334.854  \n",
       "2         125.20        97.632  \n",
       "3         377.40       351.602  \n",
       "4         114.62        97.776  "
      ]
     },
     "execution_count": 8,
     "metadata": {},
     "output_type": "execute_result"
    }
   ],
   "source": [
    "cab_data.head()"
   ]
  },
  {
   "cell_type": "code",
   "execution_count": 9,
   "metadata": {},
   "outputs": [
    {
     "data": {
      "text/plain": [
       "(359392, 7)"
      ]
     },
     "execution_count": 9,
     "metadata": {},
     "output_type": "execute_result"
    }
   ],
   "source": [
    "cab_data.shape"
   ]
  },
  {
   "cell_type": "code",
   "execution_count": 10,
   "metadata": {},
   "outputs": [
    {
     "name": "stdout",
     "output_type": "stream",
     "text": [
      "Transaction ID    359392\n",
      "Date of Travel      1095\n",
      "Company                2\n",
      "City                  19\n",
      "KM Travelled         874\n",
      "Price Charged      99176\n",
      "Cost of Trip       16291\n",
      "dtype: int64\n"
     ]
    }
   ],
   "source": [
    "cab_data_uni = cab_data.nunique()\n",
    "print(cab_data_uni)"
   ]
  },
  {
   "cell_type": "code",
   "execution_count": 11,
   "metadata": {},
   "outputs": [
    {
     "data": {
      "text/html": [
       "<div>\n",
       "<style scoped>\n",
       "    .dataframe tbody tr th:only-of-type {\n",
       "        vertical-align: middle;\n",
       "    }\n",
       "\n",
       "    .dataframe tbody tr th {\n",
       "        vertical-align: top;\n",
       "    }\n",
       "\n",
       "    .dataframe thead th {\n",
       "        text-align: right;\n",
       "    }\n",
       "</style>\n",
       "<table border=\"1\" class=\"dataframe\">\n",
       "  <thead>\n",
       "    <tr style=\"text-align: right;\">\n",
       "      <th></th>\n",
       "      <th>Customer ID</th>\n",
       "      <th>Gender</th>\n",
       "      <th>Age</th>\n",
       "      <th>Income (USD/Month)</th>\n",
       "    </tr>\n",
       "  </thead>\n",
       "  <tbody>\n",
       "    <tr>\n",
       "      <th>0</th>\n",
       "      <td>29290</td>\n",
       "      <td>Male</td>\n",
       "      <td>28</td>\n",
       "      <td>10813</td>\n",
       "    </tr>\n",
       "    <tr>\n",
       "      <th>1</th>\n",
       "      <td>27703</td>\n",
       "      <td>Male</td>\n",
       "      <td>27</td>\n",
       "      <td>9237</td>\n",
       "    </tr>\n",
       "    <tr>\n",
       "      <th>2</th>\n",
       "      <td>28712</td>\n",
       "      <td>Male</td>\n",
       "      <td>53</td>\n",
       "      <td>11242</td>\n",
       "    </tr>\n",
       "    <tr>\n",
       "      <th>3</th>\n",
       "      <td>28020</td>\n",
       "      <td>Male</td>\n",
       "      <td>23</td>\n",
       "      <td>23327</td>\n",
       "    </tr>\n",
       "    <tr>\n",
       "      <th>4</th>\n",
       "      <td>27182</td>\n",
       "      <td>Male</td>\n",
       "      <td>33</td>\n",
       "      <td>8536</td>\n",
       "    </tr>\n",
       "  </tbody>\n",
       "</table>\n",
       "</div>"
      ],
      "text/plain": [
       "   Customer ID Gender  Age  Income (USD/Month)\n",
       "0        29290   Male   28               10813\n",
       "1        27703   Male   27                9237\n",
       "2        28712   Male   53               11242\n",
       "3        28020   Male   23               23327\n",
       "4        27182   Male   33                8536"
      ]
     },
     "execution_count": 11,
     "metadata": {},
     "output_type": "execute_result"
    }
   ],
   "source": [
    "customer_id.head()"
   ]
  },
  {
   "cell_type": "code",
   "execution_count": 12,
   "metadata": {},
   "outputs": [
    {
     "data": {
      "text/html": [
       "<div>\n",
       "<style scoped>\n",
       "    .dataframe tbody tr th:only-of-type {\n",
       "        vertical-align: middle;\n",
       "    }\n",
       "\n",
       "    .dataframe tbody tr th {\n",
       "        vertical-align: top;\n",
       "    }\n",
       "\n",
       "    .dataframe thead th {\n",
       "        text-align: right;\n",
       "    }\n",
       "</style>\n",
       "<table border=\"1\" class=\"dataframe\">\n",
       "  <thead>\n",
       "    <tr style=\"text-align: right;\">\n",
       "      <th></th>\n",
       "      <th>Transaction ID</th>\n",
       "      <th>Customer ID</th>\n",
       "      <th>Payment_Mode</th>\n",
       "    </tr>\n",
       "  </thead>\n",
       "  <tbody>\n",
       "    <tr>\n",
       "      <th>0</th>\n",
       "      <td>10000011</td>\n",
       "      <td>29290</td>\n",
       "      <td>Card</td>\n",
       "    </tr>\n",
       "    <tr>\n",
       "      <th>1</th>\n",
       "      <td>10000012</td>\n",
       "      <td>27703</td>\n",
       "      <td>Card</td>\n",
       "    </tr>\n",
       "    <tr>\n",
       "      <th>2</th>\n",
       "      <td>10000013</td>\n",
       "      <td>28712</td>\n",
       "      <td>Cash</td>\n",
       "    </tr>\n",
       "    <tr>\n",
       "      <th>3</th>\n",
       "      <td>10000014</td>\n",
       "      <td>28020</td>\n",
       "      <td>Cash</td>\n",
       "    </tr>\n",
       "    <tr>\n",
       "      <th>4</th>\n",
       "      <td>10000015</td>\n",
       "      <td>27182</td>\n",
       "      <td>Card</td>\n",
       "    </tr>\n",
       "  </tbody>\n",
       "</table>\n",
       "</div>"
      ],
      "text/plain": [
       "   Transaction ID  Customer ID Payment_Mode\n",
       "0        10000011        29290         Card\n",
       "1        10000012        27703         Card\n",
       "2        10000013        28712         Cash\n",
       "3        10000014        28020         Cash\n",
       "4        10000015        27182         Card"
      ]
     },
     "execution_count": 12,
     "metadata": {},
     "output_type": "execute_result"
    }
   ],
   "source": [
    "transaction_id.head()"
   ]
  },
  {
   "cell_type": "code",
   "execution_count": 13,
   "metadata": {},
   "outputs": [
    {
     "data": {
      "text/plain": [
       "440098"
      ]
     },
     "execution_count": 13,
     "metadata": {},
     "output_type": "execute_result"
    }
   ],
   "source": [
    "transaction_id['Transaction ID'].nunique()"
   ]
  },
  {
   "cell_type": "code",
   "execution_count": 14,
   "metadata": {},
   "outputs": [
    {
     "name": "stdout",
     "output_type": "stream",
     "text": [
      "Transaction ID    440098\n",
      "Customer ID        49171\n",
      "Payment_Mode           2\n",
      "dtype: int64\n"
     ]
    }
   ],
   "source": [
    "UniValue = transaction_id.nunique()\n",
    "print(UniValue)"
   ]
  },
  {
   "cell_type": "code",
   "execution_count": 15,
   "metadata": {},
   "outputs": [
    {
     "data": {
      "text/html": [
       "<div>\n",
       "<style scoped>\n",
       "    .dataframe tbody tr th:only-of-type {\n",
       "        vertical-align: middle;\n",
       "    }\n",
       "\n",
       "    .dataframe tbody tr th {\n",
       "        vertical-align: top;\n",
       "    }\n",
       "\n",
       "    .dataframe thead th {\n",
       "        text-align: right;\n",
       "    }\n",
       "</style>\n",
       "<table border=\"1\" class=\"dataframe\">\n",
       "  <thead>\n",
       "    <tr style=\"text-align: right;\">\n",
       "      <th></th>\n",
       "      <th>Transaction ID</th>\n",
       "      <th>Date of Travel</th>\n",
       "      <th>Company</th>\n",
       "      <th>City</th>\n",
       "      <th>KM Travelled</th>\n",
       "      <th>Price Charged</th>\n",
       "      <th>Cost of Trip</th>\n",
       "      <th>Customer ID</th>\n",
       "      <th>Payment_Mode</th>\n",
       "    </tr>\n",
       "  </thead>\n",
       "  <tbody>\n",
       "    <tr>\n",
       "      <th>0</th>\n",
       "      <td>10000011</td>\n",
       "      <td>08-01-2016</td>\n",
       "      <td>Pink Cab</td>\n",
       "      <td>ATLANTA GA</td>\n",
       "      <td>30.45</td>\n",
       "      <td>370.95</td>\n",
       "      <td>313.635</td>\n",
       "      <td>29290</td>\n",
       "      <td>Card</td>\n",
       "    </tr>\n",
       "    <tr>\n",
       "      <th>1</th>\n",
       "      <td>10000012</td>\n",
       "      <td>06-01-2016</td>\n",
       "      <td>Pink Cab</td>\n",
       "      <td>ATLANTA GA</td>\n",
       "      <td>28.62</td>\n",
       "      <td>358.52</td>\n",
       "      <td>334.854</td>\n",
       "      <td>27703</td>\n",
       "      <td>Card</td>\n",
       "    </tr>\n",
       "    <tr>\n",
       "      <th>2</th>\n",
       "      <td>10000013</td>\n",
       "      <td>02-01-2016</td>\n",
       "      <td>Pink Cab</td>\n",
       "      <td>ATLANTA GA</td>\n",
       "      <td>9.04</td>\n",
       "      <td>125.20</td>\n",
       "      <td>97.632</td>\n",
       "      <td>28712</td>\n",
       "      <td>Cash</td>\n",
       "    </tr>\n",
       "    <tr>\n",
       "      <th>3</th>\n",
       "      <td>10000014</td>\n",
       "      <td>07-01-2016</td>\n",
       "      <td>Pink Cab</td>\n",
       "      <td>ATLANTA GA</td>\n",
       "      <td>33.17</td>\n",
       "      <td>377.40</td>\n",
       "      <td>351.602</td>\n",
       "      <td>28020</td>\n",
       "      <td>Cash</td>\n",
       "    </tr>\n",
       "    <tr>\n",
       "      <th>4</th>\n",
       "      <td>10000015</td>\n",
       "      <td>03-01-2016</td>\n",
       "      <td>Pink Cab</td>\n",
       "      <td>ATLANTA GA</td>\n",
       "      <td>8.73</td>\n",
       "      <td>114.62</td>\n",
       "      <td>97.776</td>\n",
       "      <td>27182</td>\n",
       "      <td>Card</td>\n",
       "    </tr>\n",
       "  </tbody>\n",
       "</table>\n",
       "</div>"
      ],
      "text/plain": [
       "   Transaction ID Date of Travel   Company        City  KM Travelled  \\\n",
       "0        10000011     08-01-2016  Pink Cab  ATLANTA GA         30.45   \n",
       "1        10000012     06-01-2016  Pink Cab  ATLANTA GA         28.62   \n",
       "2        10000013     02-01-2016  Pink Cab  ATLANTA GA          9.04   \n",
       "3        10000014     07-01-2016  Pink Cab  ATLANTA GA         33.17   \n",
       "4        10000015     03-01-2016  Pink Cab  ATLANTA GA          8.73   \n",
       "\n",
       "   Price Charged  Cost of Trip  Customer ID Payment_Mode  \n",
       "0         370.95       313.635        29290         Card  \n",
       "1         358.52       334.854        27703         Card  \n",
       "2         125.20        97.632        28712         Cash  \n",
       "3         377.40       351.602        28020         Cash  \n",
       "4         114.62        97.776        27182         Card  "
      ]
     },
     "execution_count": 15,
     "metadata": {},
     "output_type": "execute_result"
    }
   ],
   "source": [
    "#Inner join is performed on cab_data and trasaction_id based on 'Transaction ID' Column\n",
    "\n",
    "merged_df =pd.merge(cab_data,transaction_id, on='Transaction ID',how='inner')\n",
    "merged_df.head()"
   ]
  },
  {
   "cell_type": "code",
   "execution_count": 16,
   "metadata": {},
   "outputs": [
    {
     "data": {
      "text/plain": [
       "(359392, 9)"
      ]
     },
     "execution_count": 16,
     "metadata": {},
     "output_type": "execute_result"
    }
   ],
   "source": [
    "merged_df.shape"
   ]
  },
  {
   "cell_type": "code",
   "execution_count": 17,
   "metadata": {},
   "outputs": [
    {
     "name": "stdout",
     "output_type": "stream",
     "text": [
      "['Transaction ID', 'Date of Travel', 'Company', 'City', 'KM Travelled', 'Price Charged', 'Cost of Trip', 'Customer ID', 'Payment_Mode']\n"
     ]
    }
   ],
   "source": [
    "cols = list(merged_df.columns.values)\n",
    "print(cols)"
   ]
  },
  {
   "cell_type": "code",
   "execution_count": 18,
   "metadata": {},
   "outputs": [
    {
     "data": {
      "text/html": [
       "<div>\n",
       "<style scoped>\n",
       "    .dataframe tbody tr th:only-of-type {\n",
       "        vertical-align: middle;\n",
       "    }\n",
       "\n",
       "    .dataframe tbody tr th {\n",
       "        vertical-align: top;\n",
       "    }\n",
       "\n",
       "    .dataframe thead th {\n",
       "        text-align: right;\n",
       "    }\n",
       "</style>\n",
       "<table border=\"1\" class=\"dataframe\">\n",
       "  <thead>\n",
       "    <tr style=\"text-align: right;\">\n",
       "      <th></th>\n",
       "      <th>Customer ID</th>\n",
       "      <th>Transaction ID</th>\n",
       "      <th>Date of Travel</th>\n",
       "      <th>Company</th>\n",
       "      <th>City</th>\n",
       "      <th>KM Travelled</th>\n",
       "      <th>Price Charged</th>\n",
       "      <th>Cost of Trip</th>\n",
       "      <th>Payment_Mode</th>\n",
       "    </tr>\n",
       "  </thead>\n",
       "  <tbody>\n",
       "    <tr>\n",
       "      <th>0</th>\n",
       "      <td>29290</td>\n",
       "      <td>10000011</td>\n",
       "      <td>08-01-2016</td>\n",
       "      <td>Pink Cab</td>\n",
       "      <td>ATLANTA GA</td>\n",
       "      <td>30.45</td>\n",
       "      <td>370.95</td>\n",
       "      <td>313.635</td>\n",
       "      <td>Card</td>\n",
       "    </tr>\n",
       "    <tr>\n",
       "      <th>1</th>\n",
       "      <td>27703</td>\n",
       "      <td>10000012</td>\n",
       "      <td>06-01-2016</td>\n",
       "      <td>Pink Cab</td>\n",
       "      <td>ATLANTA GA</td>\n",
       "      <td>28.62</td>\n",
       "      <td>358.52</td>\n",
       "      <td>334.854</td>\n",
       "      <td>Card</td>\n",
       "    </tr>\n",
       "    <tr>\n",
       "      <th>2</th>\n",
       "      <td>28712</td>\n",
       "      <td>10000013</td>\n",
       "      <td>02-01-2016</td>\n",
       "      <td>Pink Cab</td>\n",
       "      <td>ATLANTA GA</td>\n",
       "      <td>9.04</td>\n",
       "      <td>125.20</td>\n",
       "      <td>97.632</td>\n",
       "      <td>Cash</td>\n",
       "    </tr>\n",
       "    <tr>\n",
       "      <th>3</th>\n",
       "      <td>28020</td>\n",
       "      <td>10000014</td>\n",
       "      <td>07-01-2016</td>\n",
       "      <td>Pink Cab</td>\n",
       "      <td>ATLANTA GA</td>\n",
       "      <td>33.17</td>\n",
       "      <td>377.40</td>\n",
       "      <td>351.602</td>\n",
       "      <td>Cash</td>\n",
       "    </tr>\n",
       "    <tr>\n",
       "      <th>4</th>\n",
       "      <td>27182</td>\n",
       "      <td>10000015</td>\n",
       "      <td>03-01-2016</td>\n",
       "      <td>Pink Cab</td>\n",
       "      <td>ATLANTA GA</td>\n",
       "      <td>8.73</td>\n",
       "      <td>114.62</td>\n",
       "      <td>97.776</td>\n",
       "      <td>Card</td>\n",
       "    </tr>\n",
       "  </tbody>\n",
       "</table>\n",
       "</div>"
      ],
      "text/plain": [
       "   Customer ID  Transaction ID Date of Travel   Company        City  \\\n",
       "0        29290        10000011     08-01-2016  Pink Cab  ATLANTA GA   \n",
       "1        27703        10000012     06-01-2016  Pink Cab  ATLANTA GA   \n",
       "2        28712        10000013     02-01-2016  Pink Cab  ATLANTA GA   \n",
       "3        28020        10000014     07-01-2016  Pink Cab  ATLANTA GA   \n",
       "4        27182        10000015     03-01-2016  Pink Cab  ATLANTA GA   \n",
       "\n",
       "   KM Travelled  Price Charged  Cost of Trip Payment_Mode  \n",
       "0         30.45         370.95       313.635         Card  \n",
       "1         28.62         358.52       334.854         Card  \n",
       "2          9.04         125.20        97.632         Cash  \n",
       "3         33.17         377.40       351.602         Cash  \n",
       "4          8.73         114.62        97.776         Card  "
      ]
     },
     "execution_count": 18,
     "metadata": {},
     "output_type": "execute_result"
    }
   ],
   "source": [
    "# 'Customer ID' is moved to 1st column position\n",
    "\n",
    "first_column = merged_df.pop ('Customer ID')\n",
    "merged_df.insert(0, 'Customer ID', first_column)\n",
    "merged_df.head()"
   ]
  },
  {
   "cell_type": "code",
   "execution_count": 19,
   "metadata": {},
   "outputs": [
    {
     "data": {
      "text/html": [
       "<div>\n",
       "<style scoped>\n",
       "    .dataframe tbody tr th:only-of-type {\n",
       "        vertical-align: middle;\n",
       "    }\n",
       "\n",
       "    .dataframe tbody tr th {\n",
       "        vertical-align: top;\n",
       "    }\n",
       "\n",
       "    .dataframe thead th {\n",
       "        text-align: right;\n",
       "    }\n",
       "</style>\n",
       "<table border=\"1\" class=\"dataframe\">\n",
       "  <thead>\n",
       "    <tr style=\"text-align: right;\">\n",
       "      <th></th>\n",
       "      <th>Customer ID</th>\n",
       "      <th>Transaction ID</th>\n",
       "      <th>Date of Travel</th>\n",
       "      <th>Company</th>\n",
       "      <th>City</th>\n",
       "      <th>KM Travelled</th>\n",
       "      <th>Price Charged</th>\n",
       "      <th>Cost of Trip</th>\n",
       "      <th>Payment_Mode</th>\n",
       "      <th>Gender</th>\n",
       "      <th>Age</th>\n",
       "      <th>Income (USD/Month)</th>\n",
       "    </tr>\n",
       "  </thead>\n",
       "  <tbody>\n",
       "    <tr>\n",
       "      <th>0</th>\n",
       "      <td>29290</td>\n",
       "      <td>10000011</td>\n",
       "      <td>08-01-2016</td>\n",
       "      <td>Pink Cab</td>\n",
       "      <td>ATLANTA GA</td>\n",
       "      <td>30.45</td>\n",
       "      <td>370.95</td>\n",
       "      <td>313.6350</td>\n",
       "      <td>Card</td>\n",
       "      <td>Male</td>\n",
       "      <td>28</td>\n",
       "      <td>10813</td>\n",
       "    </tr>\n",
       "    <tr>\n",
       "      <th>1</th>\n",
       "      <td>29290</td>\n",
       "      <td>10351127</td>\n",
       "      <td>21-07-2018</td>\n",
       "      <td>Yellow Cab</td>\n",
       "      <td>ATLANTA GA</td>\n",
       "      <td>26.19</td>\n",
       "      <td>598.70</td>\n",
       "      <td>317.4228</td>\n",
       "      <td>Cash</td>\n",
       "      <td>Male</td>\n",
       "      <td>28</td>\n",
       "      <td>10813</td>\n",
       "    </tr>\n",
       "    <tr>\n",
       "      <th>2</th>\n",
       "      <td>29290</td>\n",
       "      <td>10412921</td>\n",
       "      <td>23-11-2018</td>\n",
       "      <td>Yellow Cab</td>\n",
       "      <td>ATLANTA GA</td>\n",
       "      <td>42.55</td>\n",
       "      <td>792.05</td>\n",
       "      <td>597.4020</td>\n",
       "      <td>Card</td>\n",
       "      <td>Male</td>\n",
       "      <td>28</td>\n",
       "      <td>10813</td>\n",
       "    </tr>\n",
       "    <tr>\n",
       "      <th>3</th>\n",
       "      <td>27703</td>\n",
       "      <td>10000012</td>\n",
       "      <td>06-01-2016</td>\n",
       "      <td>Pink Cab</td>\n",
       "      <td>ATLANTA GA</td>\n",
       "      <td>28.62</td>\n",
       "      <td>358.52</td>\n",
       "      <td>334.8540</td>\n",
       "      <td>Card</td>\n",
       "      <td>Male</td>\n",
       "      <td>27</td>\n",
       "      <td>9237</td>\n",
       "    </tr>\n",
       "    <tr>\n",
       "      <th>4</th>\n",
       "      <td>27703</td>\n",
       "      <td>10320494</td>\n",
       "      <td>21-04-2018</td>\n",
       "      <td>Yellow Cab</td>\n",
       "      <td>ATLANTA GA</td>\n",
       "      <td>36.38</td>\n",
       "      <td>721.10</td>\n",
       "      <td>467.1192</td>\n",
       "      <td>Card</td>\n",
       "      <td>Male</td>\n",
       "      <td>27</td>\n",
       "      <td>9237</td>\n",
       "    </tr>\n",
       "  </tbody>\n",
       "</table>\n",
       "</div>"
      ],
      "text/plain": [
       "   Customer ID  Transaction ID Date of Travel     Company        City  \\\n",
       "0        29290        10000011     08-01-2016    Pink Cab  ATLANTA GA   \n",
       "1        29290        10351127     21-07-2018  Yellow Cab  ATLANTA GA   \n",
       "2        29290        10412921     23-11-2018  Yellow Cab  ATLANTA GA   \n",
       "3        27703        10000012     06-01-2016    Pink Cab  ATLANTA GA   \n",
       "4        27703        10320494     21-04-2018  Yellow Cab  ATLANTA GA   \n",
       "\n",
       "   KM Travelled  Price Charged  Cost of Trip Payment_Mode Gender  Age  \\\n",
       "0         30.45         370.95      313.6350         Card   Male   28   \n",
       "1         26.19         598.70      317.4228         Cash   Male   28   \n",
       "2         42.55         792.05      597.4020         Card   Male   28   \n",
       "3         28.62         358.52      334.8540         Card   Male   27   \n",
       "4         36.38         721.10      467.1192         Card   Male   27   \n",
       "\n",
       "   Income (USD/Month)  \n",
       "0               10813  \n",
       "1               10813  \n",
       "2               10813  \n",
       "3                9237  \n",
       "4                9237  "
      ]
     },
     "execution_count": 19,
     "metadata": {},
     "output_type": "execute_result"
    }
   ],
   "source": [
    "# Inner Join is performed on 'merged_df' and 'customer_id' based on 'Customer ID' column\n",
    "merged_df = pd.merge(merged_df,customer_id, on = 'Customer ID', how='inner')\n",
    "merged_df.head()"
   ]
  },
  {
   "cell_type": "code",
   "execution_count": 20,
   "metadata": {},
   "outputs": [
    {
     "data": {
      "text/plain": [
       "(359392, 12)"
      ]
     },
     "execution_count": 20,
     "metadata": {},
     "output_type": "execute_result"
    }
   ],
   "source": [
    "merged_df.shape"
   ]
  },
  {
   "cell_type": "code",
   "execution_count": 21,
   "metadata": {},
   "outputs": [
    {
     "name": "stdout",
     "output_type": "stream",
     "text": [
      "Customer ID           0\n",
      "Transaction ID        0\n",
      "Date of Travel        0\n",
      "Company               0\n",
      "City                  0\n",
      "KM Travelled          0\n",
      "Price Charged         0\n",
      "Cost of Trip          0\n",
      "Payment_Mode          0\n",
      "Gender                0\n",
      "Age                   0\n",
      "Income (USD/Month)    0\n",
      "dtype: int64\n"
     ]
    }
   ],
   "source": [
    "print(merged_df.isnull().sum())"
   ]
  },
  {
   "cell_type": "code",
   "execution_count": 22,
   "metadata": {},
   "outputs": [],
   "source": [
    "df =pd.DataFrame.copy(merged_df)"
   ]
  },
  {
   "cell_type": "code",
   "execution_count": 23,
   "metadata": {},
   "outputs": [
    {
     "data": {
      "text/html": [
       "<div>\n",
       "<style scoped>\n",
       "    .dataframe tbody tr th:only-of-type {\n",
       "        vertical-align: middle;\n",
       "    }\n",
       "\n",
       "    .dataframe tbody tr th {\n",
       "        vertical-align: top;\n",
       "    }\n",
       "\n",
       "    .dataframe thead th {\n",
       "        text-align: right;\n",
       "    }\n",
       "</style>\n",
       "<table border=\"1\" class=\"dataframe\">\n",
       "  <thead>\n",
       "    <tr style=\"text-align: right;\">\n",
       "      <th></th>\n",
       "      <th>Customer ID</th>\n",
       "      <th>Transaction ID</th>\n",
       "      <th>Date of Travel</th>\n",
       "      <th>Company</th>\n",
       "      <th>City</th>\n",
       "      <th>KM Travelled</th>\n",
       "      <th>Price Charged</th>\n",
       "      <th>Cost of Trip</th>\n",
       "      <th>Payment_Mode</th>\n",
       "      <th>Gender</th>\n",
       "      <th>Age</th>\n",
       "      <th>Income (USD/Month)</th>\n",
       "    </tr>\n",
       "  </thead>\n",
       "  <tbody>\n",
       "    <tr>\n",
       "      <th>0</th>\n",
       "      <td>29290</td>\n",
       "      <td>10000011</td>\n",
       "      <td>08-01-2016</td>\n",
       "      <td>Pink Cab</td>\n",
       "      <td>ATLANTA GA</td>\n",
       "      <td>30.45</td>\n",
       "      <td>370.95</td>\n",
       "      <td>313.6350</td>\n",
       "      <td>Card</td>\n",
       "      <td>Male</td>\n",
       "      <td>28</td>\n",
       "      <td>10813</td>\n",
       "    </tr>\n",
       "    <tr>\n",
       "      <th>1</th>\n",
       "      <td>29290</td>\n",
       "      <td>10351127</td>\n",
       "      <td>21-07-2018</td>\n",
       "      <td>Yellow Cab</td>\n",
       "      <td>ATLANTA GA</td>\n",
       "      <td>26.19</td>\n",
       "      <td>598.70</td>\n",
       "      <td>317.4228</td>\n",
       "      <td>Cash</td>\n",
       "      <td>Male</td>\n",
       "      <td>28</td>\n",
       "      <td>10813</td>\n",
       "    </tr>\n",
       "    <tr>\n",
       "      <th>2</th>\n",
       "      <td>29290</td>\n",
       "      <td>10412921</td>\n",
       "      <td>23-11-2018</td>\n",
       "      <td>Yellow Cab</td>\n",
       "      <td>ATLANTA GA</td>\n",
       "      <td>42.55</td>\n",
       "      <td>792.05</td>\n",
       "      <td>597.4020</td>\n",
       "      <td>Card</td>\n",
       "      <td>Male</td>\n",
       "      <td>28</td>\n",
       "      <td>10813</td>\n",
       "    </tr>\n",
       "    <tr>\n",
       "      <th>3</th>\n",
       "      <td>27703</td>\n",
       "      <td>10000012</td>\n",
       "      <td>06-01-2016</td>\n",
       "      <td>Pink Cab</td>\n",
       "      <td>ATLANTA GA</td>\n",
       "      <td>28.62</td>\n",
       "      <td>358.52</td>\n",
       "      <td>334.8540</td>\n",
       "      <td>Card</td>\n",
       "      <td>Male</td>\n",
       "      <td>27</td>\n",
       "      <td>9237</td>\n",
       "    </tr>\n",
       "    <tr>\n",
       "      <th>4</th>\n",
       "      <td>27703</td>\n",
       "      <td>10320494</td>\n",
       "      <td>21-04-2018</td>\n",
       "      <td>Yellow Cab</td>\n",
       "      <td>ATLANTA GA</td>\n",
       "      <td>36.38</td>\n",
       "      <td>721.10</td>\n",
       "      <td>467.1192</td>\n",
       "      <td>Card</td>\n",
       "      <td>Male</td>\n",
       "      <td>27</td>\n",
       "      <td>9237</td>\n",
       "    </tr>\n",
       "  </tbody>\n",
       "</table>\n",
       "</div>"
      ],
      "text/plain": [
       "   Customer ID  Transaction ID Date of Travel     Company        City  \\\n",
       "0        29290        10000011     08-01-2016    Pink Cab  ATLANTA GA   \n",
       "1        29290        10351127     21-07-2018  Yellow Cab  ATLANTA GA   \n",
       "2        29290        10412921     23-11-2018  Yellow Cab  ATLANTA GA   \n",
       "3        27703        10000012     06-01-2016    Pink Cab  ATLANTA GA   \n",
       "4        27703        10320494     21-04-2018  Yellow Cab  ATLANTA GA   \n",
       "\n",
       "   KM Travelled  Price Charged  Cost of Trip Payment_Mode Gender  Age  \\\n",
       "0         30.45         370.95      313.6350         Card   Male   28   \n",
       "1         26.19         598.70      317.4228         Cash   Male   28   \n",
       "2         42.55         792.05      597.4020         Card   Male   28   \n",
       "3         28.62         358.52      334.8540         Card   Male   27   \n",
       "4         36.38         721.10      467.1192         Card   Male   27   \n",
       "\n",
       "   Income (USD/Month)  \n",
       "0               10813  \n",
       "1               10813  \n",
       "2               10813  \n",
       "3                9237  \n",
       "4                9237  "
      ]
     },
     "execution_count": 23,
     "metadata": {},
     "output_type": "execute_result"
    }
   ],
   "source": [
    "df.head()"
   ]
  },
  {
   "cell_type": "code",
   "execution_count": 24,
   "metadata": {},
   "outputs": [
    {
     "data": {
      "text/plain": [
       "(359392, 12)"
      ]
     },
     "execution_count": 24,
     "metadata": {},
     "output_type": "execute_result"
    }
   ],
   "source": [
    "df.shape"
   ]
  },
  {
   "cell_type": "code",
   "execution_count": 25,
   "metadata": {},
   "outputs": [
    {
     "data": {
      "text/plain": [
       "Customer ID            46148\n",
       "Transaction ID        359392\n",
       "Date of Travel          1095\n",
       "Company                    2\n",
       "City                      19\n",
       "KM Travelled             874\n",
       "Price Charged          99176\n",
       "Cost of Trip           16291\n",
       "Payment_Mode               2\n",
       "Gender                     2\n",
       "Age                       48\n",
       "Income (USD/Month)     22725\n",
       "dtype: int64"
      ]
     },
     "execution_count": 25,
     "metadata": {},
     "output_type": "execute_result"
    }
   ],
   "source": [
    "df.nunique()"
   ]
  },
  {
   "cell_type": "markdown",
   "metadata": {},
   "source": [
    "# Investigations\n",
    "1) Is there any correlation between poulation of the  city, number of user per city and distance travelled per city.\\\n",
    "2) Is there any trend in profit throughout the each year.\\\n",
    "3) Which company is making higher profit per km?"
   ]
  },
  {
   "cell_type": "code",
   "execution_count": 27,
   "metadata": {},
   "outputs": [
    {
     "name": "stdout",
     "output_type": "stream",
     "text": [
      "   Customer ID  Transaction ID Date of Travel     Company        City  \\\n",
      "0        29290        10000011     08-01-2016    Pink Cab  ATLANTA GA   \n",
      "1        29290        10351127     21-07-2018  Yellow Cab  ATLANTA GA   \n",
      "2        29290        10412921     23-11-2018  Yellow Cab  ATLANTA GA   \n",
      "3        27703        10000012     06-01-2016    Pink Cab  ATLANTA GA   \n",
      "4        27703        10320494     21-04-2018  Yellow Cab  ATLANTA GA   \n",
      "\n",
      "   KM Travelled  Price Charged  Cost of Trip Payment_Mode Gender  Age  \\\n",
      "0         30.45         370.95      313.6350         Card   Male   28   \n",
      "1         26.19         598.70      317.4228         Cash   Male   28   \n",
      "2         42.55         792.05      597.4020         Card   Male   28   \n",
      "3         28.62         358.52      334.8540         Card   Male   27   \n",
      "4         36.38         721.10      467.1192         Card   Male   27   \n",
      "\n",
      "   Income (USD/Month)    Profit  \n",
      "0               10813   57.3150  \n",
      "1               10813  281.2772  \n",
      "2               10813  194.6480  \n",
      "3                9237   23.6660  \n",
      "4                9237  253.9808  \n"
     ]
    }
   ],
   "source": [
    "#Profit Calculation\n",
    "\n",
    "df['Profit'] = (df['Price Charged'] - df['Cost of Trip'])\n",
    "print(df.head())"
   ]
  },
  {
   "cell_type": "code",
   "execution_count": 28,
   "metadata": {},
   "outputs": [
    {
     "name": "stdout",
     "output_type": "stream",
     "text": [
      "   Customer ID  Transaction ID Date of Travel     Company        City  \\\n",
      "0        29290        10000011     08-01-2016    Pink Cab  ATLANTA GA   \n",
      "1        29290        10351127     21-07-2018  Yellow Cab  ATLANTA GA   \n",
      "2        29290        10412921     23-11-2018  Yellow Cab  ATLANTA GA   \n",
      "3        27703        10000012     06-01-2016    Pink Cab  ATLANTA GA   \n",
      "4        27703        10320494     21-04-2018  Yellow Cab  ATLANTA GA   \n",
      "\n",
      "   KM Travelled  Price Charged  Cost of Trip Payment_Mode Gender  Age  \\\n",
      "0         30.45         370.95      313.6350         Card   Male   28   \n",
      "1         26.19         598.70      317.4228         Cash   Male   28   \n",
      "2         42.55         792.05      597.4020         Card   Male   28   \n",
      "3         28.62         358.52      334.8540         Card   Male   27   \n",
      "4         36.38         721.10      467.1192         Card   Male   27   \n",
      "\n",
      "   Income (USD/Month)    Profit  Profit per KM  \n",
      "0               10813   57.3150       1.882266  \n",
      "1               10813  281.2772      10.739870  \n",
      "2               10813  194.6480       4.574571  \n",
      "3                9237   23.6660       0.826904  \n",
      "4                9237  253.9808       6.981330  \n"
     ]
    }
   ],
   "source": [
    "#Profit per Km calculation\n",
    "df['Profit per KM'] = (df['Profit']/df['KM Travelled'])\n",
    "print(df.head())"
   ]
  },
  {
   "cell_type": "code",
   "execution_count": 29,
   "metadata": {},
   "outputs": [
    {
     "name": "stdout",
     "output_type": "stream",
     "text": [
      "                Profit\n",
      "Company               \n",
      "Pink Cab     5307328.0\n",
      "Yellow Cab  44020373.0\n"
     ]
    }
   ],
   "source": [
    "#Find out the profit of each company\n",
    "cab_profit = df.groupby(['Company'])[['Profit']].sum()\n",
    "print(cab_profit.round())\n"
   ]
  },
  {
   "cell_type": "code",
   "execution_count": 30,
   "metadata": {},
   "outputs": [
    {
     "name": "stdout",
     "output_type": "stream",
     "text": [
      "                    Profit\n",
      "City                      \n",
      "ATLANTA GA        842433.0\n",
      "AUSTIN TX         526701.0\n",
      "BOSTON MA        1768719.0\n",
      "CHICAGO IL       3387313.0\n",
      "DALLAS TX        1128733.0\n",
      "DENVER CO         397585.0\n",
      "LOS ANGELES CA   4411709.0\n",
      "MIAMI FL          758301.0\n",
      "NASHVILLE TN      149532.0\n",
      "NEW YORK NY     27962555.0\n",
      "ORANGE COUNTY     457002.0\n",
      "PHOENIX AZ        192941.0\n",
      "PITTSBURGH PA      85166.0\n",
      "SACRAMENTO CA     117326.0\n",
      "SAN DIEGO CA     1587163.0\n",
      "SEATTLE WA        604685.0\n",
      "SILICON VALLEY   1316705.0\n",
      "TUCSON AZ         140261.0\n",
      "WASHINGTON DC    3492870.0\n"
     ]
    }
   ],
   "source": [
    "# City Wise total profit \n",
    "city_profit = df.groupby(['City'])[['Profit']].sum()\n",
    "print(city_profit.round())"
   ]
  },
  {
   "cell_type": "code",
   "execution_count": 31,
   "metadata": {},
   "outputs": [
    {
     "data": {
      "text/plain": [
       "Text(0, 0.5, 'Profit')"
      ]
     },
     "execution_count": 31,
     "metadata": {},
     "output_type": "execute_result"
    },
    {
     "data": {
      "image/png": "[encoded data removed]",
      "text/plain": [
       "<Figure size 432x288 with 1 Axes>"
      ]
     },
     "metadata": {
      "needs_background": "light"
     },
     "output_type": "display_data"
    }
   ],
   "source": [
    "city_profit.plot(kind='Bar')\n",
    "plt.title(\"Profit per City\")\n",
    "\n",
    "plt.ylabel(\"Profit\")"
   ]
  },
  {
   "cell_type": "code",
   "execution_count": 32,
   "metadata": {},
   "outputs": [
    {
     "name": "stdout",
     "output_type": "stream",
     "text": [
      "                KM Travelled\n",
      "City                        \n",
      "ATLANTA GA          168644.0\n",
      "AUSTIN TX           109207.0\n",
      "BOSTON MA           670388.0\n",
      "CHICAGO IL         1281704.0\n",
      "DALLAS TX           157782.0\n",
      "DENVER CO            85870.0\n",
      "LOS ANGELES CA     1088736.0\n",
      "MIAMI FL            145418.0\n",
      "NASHVILLE TN         68325.0\n",
      "NEW YORK NY        2248810.0\n",
      "ORANGE COUNTY        88827.0\n",
      "PHOENIX AZ           45825.0\n",
      "PITTSBURGH PA        29706.0\n",
      "SACRAMENTO CA        53861.0\n",
      "SAN DIEGO CA        460504.0\n",
      "SEATTLE WA          180904.0\n",
      "SILICON VALLEY      193713.0\n",
      "TUCSON AZ            43230.0\n",
      "WASHINGTON DC       989038.0\n"
     ]
    }
   ],
   "source": [
    "city_dist = df.groupby(['City'])[['KM Travelled']].sum()\n",
    "print(city_dist.round())"
   ]
  },
  {
   "cell_type": "code",
   "execution_count": 33,
   "metadata": {},
   "outputs": [
    {
     "name": "stdout",
     "output_type": "stream",
     "text": [
      "                City  Population   Users\n",
      "0        NEW YORK NY     8405837  302149\n",
      "1         CHICAGO IL     1955130  164468\n",
      "2     LOS ANGELES CA     1595037  144132\n",
      "3           MIAMI FL     1339155   17675\n",
      "4     SILICON VALLEY     1177609   27247\n",
      "5      ORANGE COUNTY     1030185   12994\n",
      "6       SAN DIEGO CA      959307   69995\n",
      "7         PHOENIX AZ      943999    6133\n",
      "8          DALLAS TX      942908   22157\n",
      "9         ATLANTA GA      814885   24701\n",
      "10         DENVER CO      754233   12421\n",
      "11         AUSTIN TX      698371   14978\n",
      "12        SEATTLE WA      671238   25063\n",
      "13         TUCSON AZ      631442    5712\n",
      "14  SAN FRANCISCO CA      629591  213609\n",
      "15     SACRAMENTO CA      545776    7044\n",
      "16     PITTSBURGH PA      542085    3643\n",
      "17     WASHINGTON DC      418859  127001\n",
      "18      NASHVILLE TN      327225    9270\n",
      "19         BOSTON MA      248968   80021\n"
     ]
    }
   ],
   "source": [
    "print(City)"
   ]
  },
  {
   "cell_type": "code",
   "execution_count": 34,
   "metadata": {},
   "outputs": [
    {
     "name": "stdout",
     "output_type": "stream",
     "text": [
      "             City  Population   Users  KM Travelled\n",
      "0     NEW YORK NY     8405837  302149    2248809.74\n",
      "1      CHICAGO IL     1955130  164468    1281704.39\n",
      "2  LOS ANGELES CA     1595037  144132    1088735.65\n",
      "3        MIAMI FL     1339155   17675     145418.17\n",
      "4  SILICON VALLEY     1177609   27247     193712.97\n"
     ]
    }
   ],
   "source": [
    "city_KM = pd.merge(City,city_dist, on = 'City', how='inner')\n",
    "print(city_KM.head())"
   ]
  },
  {
   "cell_type": "code",
   "execution_count": 35,
   "metadata": {},
   "outputs": [
    {
     "data": {
      "text/html": [
       "<div>\n",
       "<style scoped>\n",
       "    .dataframe tbody tr th:only-of-type {\n",
       "        vertical-align: middle;\n",
       "    }\n",
       "\n",
       "    .dataframe tbody tr th {\n",
       "        vertical-align: top;\n",
       "    }\n",
       "\n",
       "    .dataframe thead th {\n",
       "        text-align: right;\n",
       "    }\n",
       "</style>\n",
       "<table border=\"1\" class=\"dataframe\">\n",
       "  <thead>\n",
       "    <tr style=\"text-align: right;\">\n",
       "      <th></th>\n",
       "      <th>Population</th>\n",
       "      <th>Users</th>\n",
       "      <th>KM Travelled</th>\n",
       "    </tr>\n",
       "  </thead>\n",
       "  <tbody>\n",
       "    <tr>\n",
       "      <th>Population</th>\n",
       "      <td>1.000000</td>\n",
       "      <td>0.815582</td>\n",
       "      <td>0.800419</td>\n",
       "    </tr>\n",
       "    <tr>\n",
       "      <th>Users</th>\n",
       "      <td>0.815582</td>\n",
       "      <td>1.000000</td>\n",
       "      <td>0.998921</td>\n",
       "    </tr>\n",
       "    <tr>\n",
       "      <th>KM Travelled</th>\n",
       "      <td>0.800419</td>\n",
       "      <td>0.998921</td>\n",
       "      <td>1.000000</td>\n",
       "    </tr>\n",
       "  </tbody>\n",
       "</table>\n",
       "</div>"
      ],
      "text/plain": [
       "              Population     Users  KM Travelled\n",
       "Population      1.000000  0.815582      0.800419\n",
       "Users           0.815582  1.000000      0.998921\n",
       "KM Travelled    0.800419  0.998921      1.000000"
      ]
     },
     "execution_count": 35,
     "metadata": {},
     "output_type": "execute_result"
    }
   ],
   "source": [
    "city_KM.corr()\n"
   ]
  },
  {
   "cell_type": "code",
   "execution_count": 36,
   "metadata": {},
   "outputs": [
    {
     "data": {
      "text/plain": [
       "<matplotlib.axes._subplots.AxesSubplot at 0x1e20f957588>"
      ]
     },
     "execution_count": 36,
     "metadata": {},
     "output_type": "execute_result"
    },
    {
     "data": {
      "image/png": "[encoded data removed]",
      "text/plain": [
       "<Figure size 432x288 with 2 Axes>"
      ]
     },
     "metadata": {
      "needs_background": "light"
     },
     "output_type": "display_data"
    }
   ],
   "source": [
    "sns.heatmap(city_KM.corr(),annot = True, linewidths=3, linecolor='Cyan')"
   ]
  },
  {
   "cell_type": "markdown",
   "metadata": {},
   "source": [
    "So,this shows that there is high correlation beteween population of the city, Cab users in the city and distance travelled by users. That means citys with more population have more cab users in turn more distance travelled. "
   ]
  },
  {
   "cell_type": "code",
   "execution_count": 198,
   "metadata": {},
   "outputs": [
    {
     "name": "stdout",
     "output_type": "stream",
     "text": [
      "             Transaction ID\n",
      "Customer ID                \n",
      "1                        29\n",
      "2                        40\n",
      "3                        46\n",
      "4                        26\n",
      "5                        31\n"
     ]
    }
   ],
   "source": [
    "customer= df.groupby(['Customer ID'])[['Transaction ID']].count()\n",
    "print(customer.head())"
   ]
  },
  {
   "cell_type": "code",
   "execution_count": 105,
   "metadata": {},
   "outputs": [
    {
     "data": {
      "text/html": [
       "<div>\n",
       "<style scoped>\n",
       "    .dataframe tbody tr th:only-of-type {\n",
       "        vertical-align: middle;\n",
       "    }\n",
       "\n",
       "    .dataframe tbody tr th {\n",
       "        vertical-align: top;\n",
       "    }\n",
       "\n",
       "    .dataframe thead th {\n",
       "        text-align: right;\n",
       "    }\n",
       "</style>\n",
       "<table border=\"1\" class=\"dataframe\">\n",
       "  <thead>\n",
       "    <tr style=\"text-align: right;\">\n",
       "      <th></th>\n",
       "      <th>Customer ID</th>\n",
       "      <th>Transaction ID</th>\n",
       "      <th>Date of Travel</th>\n",
       "      <th>City</th>\n",
       "      <th>KM Travelled</th>\n",
       "      <th>Price Charged</th>\n",
       "      <th>Cost of Trip</th>\n",
       "      <th>Payment_Mode</th>\n",
       "      <th>Gender</th>\n",
       "      <th>Age</th>\n",
       "      <th>Income (USD/Month)</th>\n",
       "      <th>Profit</th>\n",
       "      <th>Profit per KM</th>\n",
       "    </tr>\n",
       "    <tr>\n",
       "      <th>Company</th>\n",
       "      <th></th>\n",
       "      <th></th>\n",
       "      <th></th>\n",
       "      <th></th>\n",
       "      <th></th>\n",
       "      <th></th>\n",
       "      <th></th>\n",
       "      <th></th>\n",
       "      <th></th>\n",
       "      <th></th>\n",
       "      <th></th>\n",
       "      <th></th>\n",
       "      <th></th>\n",
       "    </tr>\n",
       "  </thead>\n",
       "  <tbody>\n",
       "    <tr>\n",
       "      <th>Pink Cab</th>\n",
       "      <td>29290</td>\n",
       "      <td>10000011</td>\n",
       "      <td>08-01-2016</td>\n",
       "      <td>ATLANTA GA</td>\n",
       "      <td>30.45</td>\n",
       "      <td>370.95</td>\n",
       "      <td>313.6350</td>\n",
       "      <td>Card</td>\n",
       "      <td>Male</td>\n",
       "      <td>28</td>\n",
       "      <td>10813</td>\n",
       "      <td>57.3150</td>\n",
       "      <td>1.882266</td>\n",
       "    </tr>\n",
       "    <tr>\n",
       "      <th>Yellow Cab</th>\n",
       "      <td>29290</td>\n",
       "      <td>10351127</td>\n",
       "      <td>21-07-2018</td>\n",
       "      <td>ATLANTA GA</td>\n",
       "      <td>26.19</td>\n",
       "      <td>598.70</td>\n",
       "      <td>317.4228</td>\n",
       "      <td>Cash</td>\n",
       "      <td>Male</td>\n",
       "      <td>28</td>\n",
       "      <td>10813</td>\n",
       "      <td>281.2772</td>\n",
       "      <td>10.739870</td>\n",
       "    </tr>\n",
       "  </tbody>\n",
       "</table>\n",
       "</div>"
      ],
      "text/plain": [
       "            Customer ID  Transaction ID Date of Travel        City  \\\n",
       "Company                                                              \n",
       "Pink Cab          29290        10000011     08-01-2016  ATLANTA GA   \n",
       "Yellow Cab        29290        10351127     21-07-2018  ATLANTA GA   \n",
       "\n",
       "            KM Travelled  Price Charged  Cost of Trip Payment_Mode Gender  \\\n",
       "Company                                                                     \n",
       "Pink Cab           30.45         370.95      313.6350         Card   Male   \n",
       "Yellow Cab         26.19         598.70      317.4228         Cash   Male   \n",
       "\n",
       "            Age  Income (USD/Month)    Profit  Profit per KM  \n",
       "Company                                                       \n",
       "Pink Cab     28               10813   57.3150       1.882266  \n",
       "Yellow Cab   28               10813  281.2772      10.739870  "
      ]
     },
     "execution_count": 105,
     "metadata": {},
     "output_type": "execute_result"
    }
   ],
   "source": [
    "#Seperating data based on Company\n",
    "\n",
    "df_company = df.groupby('Company')\n",
    "df_company.first()"
   ]
  },
  {
   "cell_type": "code",
   "execution_count": 199,
   "metadata": {},
   "outputs": [
    {
     "name": "stdout",
     "output_type": "stream",
     "text": [
      "    Customer ID  Transaction ID Date of Travel        City  KM Travelled  \\\n",
      "0         29290        10000011     08-01-2016  ATLANTA GA         30.45   \n",
      "3         27703        10000012     06-01-2016  ATLANTA GA         28.62   \n",
      "6         27703        10395626     27-10-2018  ATLANTA GA         13.39   \n",
      "7         28712        10000013     02-01-2016  ATLANTA GA          9.04   \n",
      "11        28020        10000014     07-01-2016  ATLANTA GA         33.17   \n",
      "\n",
      "    Price Charged  Cost of Trip Payment_Mode Gender  Age  Income (USD/Month)  \\\n",
      "0          370.95       313.635         Card   Male   28               10813   \n",
      "3          358.52       334.854         Card   Male   27                9237   \n",
      "6          167.03       141.934         Card   Male   27                9237   \n",
      "7          125.20        97.632         Cash   Male   53               11242   \n",
      "11         377.40       351.602         Cash   Male   23               23327   \n",
      "\n",
      "    Profit  Profit per KM  \n",
      "0   57.315       1.882266  \n",
      "3   23.666       0.826904  \n",
      "6   25.096       1.874235  \n",
      "7   27.568       3.049558  \n",
      "11  25.798       0.777751  \n"
     ]
    }
   ],
   "source": [
    "#Pink Cab data\n",
    "pink_cab=df_company.get_group('Pink Cab')\n",
    "print(pink_cab.head())"
   ]
  },
  {
   "cell_type": "code",
   "execution_count": 107,
   "metadata": {},
   "outputs": [],
   "source": [
    "#converting series into data frame\n",
    "pink_cab = pd.DataFrame(pink_cab)\n",
    "#print(pink_cab)"
   ]
  },
  {
   "cell_type": "code",
   "execution_count": 207,
   "metadata": {},
   "outputs": [
    {
     "name": "stdout",
     "output_type": "stream",
     "text": [
      "2.769907700396573\n"
     ]
    }
   ],
   "source": [
    "Avg_profit_pink = pink_cab['Profit per KM'].mean()\n",
    "print(Avg_profit_pink)"
   ]
  },
  {
   "cell_type": "code",
   "execution_count": 112,
   "metadata": {
    "scrolled": true
   },
   "outputs": [
    {
     "name": "stdout",
     "output_type": "stream",
     "text": [
      "       Date of Travel   Profit\n",
      "0          08-01-2016   57.315\n",
      "3          06-01-2016   23.666\n",
      "6          27-10-2018   25.096\n",
      "7          02-01-2016   27.568\n",
      "11         07-01-2016   25.798\n",
      "12         27-10-2016   37.292\n",
      "14         11-05-2018   43.190\n",
      "15         03-01-2016   16.844\n",
      "19         07-01-2016    9.406\n",
      "20         04-09-2016   59.890\n",
      "22         19-07-2017   30.084\n",
      "24         03-01-2016  100.950\n",
      "27         07-01-2016   88.210\n",
      "30         12-01-2016   44.730\n",
      "37         26-09-2017   65.700\n",
      "39         06-01-2016   43.724\n",
      "45         08-11-2017  176.080\n",
      "46         03-01-2018  108.750\n",
      "50         24-05-2018   99.800\n",
      "51         21-06-2018    5.614\n",
      "53         11-01-2016   95.630\n",
      "55         18-05-2016  -79.088\n",
      "64         06-01-2016   97.090\n",
      "66         21-07-2016   33.683\n",
      "75         28-04-2018  101.610\n",
      "81         11-01-2016   23.610\n",
      "84         28-08-2016   11.352\n",
      "93         10-11-2018    8.902\n",
      "95         06-01-2016   78.900\n",
      "97         03-04-2016  276.350\n",
      "...               ...      ...\n",
      "359306     01-01-2018   62.950\n",
      "359307     08-01-2018  107.968\n",
      "359308     01-01-2018   58.690\n",
      "359309     06-01-2018   89.530\n",
      "359310     05-01-2018  150.544\n",
      "359311     03-01-2018  101.790\n",
      "359312     05-01-2018  116.300\n",
      "359313     05-01-2018   16.872\n",
      "359314     05-01-2018  380.308\n",
      "359315     07-01-2018   50.872\n",
      "359316     05-01-2018   15.620\n",
      "359317     04-01-2018   49.755\n",
      "359318     05-01-2018  184.314\n",
      "359319     03-01-2018   84.528\n",
      "359320     07-01-2018   48.570\n",
      "359321     04-01-2018  103.424\n",
      "359322     05-01-2018  225.050\n",
      "359323     01-01-2018   40.348\n",
      "359324     05-01-2018   10.176\n",
      "359325     06-01-2018   26.872\n",
      "359326     05-01-2018   56.835\n",
      "359327     05-01-2018    4.200\n",
      "359328     04-01-2018    3.350\n",
      "359329     07-01-2018   43.558\n",
      "359330     05-01-2018   25.700\n",
      "359331     05-01-2018   91.627\n",
      "359332     02-01-2018   39.108\n",
      "359333     05-01-2018  121.593\n",
      "359334     05-01-2018   80.594\n",
      "359335     05-01-2018   24.350\n",
      "\n",
      "[84711 rows x 2 columns]\n"
     ]
    }
   ],
   "source": [
    " \n",
    "ts = pd.DataFrame(pink_cab,columns=['Date of Travel','Profit'])\n",
    "print(ts)"
   ]
  },
  {
   "cell_type": "code",
   "execution_count": 200,
   "metadata": {},
   "outputs": [
    {
     "name": "stdout",
     "output_type": "stream",
     "text": [
      "         Date  Profit  month  year\n",
      "0  2016-01-08  57.315      1  2016\n",
      "3  2016-01-06  23.666      1  2016\n",
      "6  2018-10-27  25.096     10  2018\n",
      "7  2016-01-02  27.568      1  2016\n",
      "11 2016-01-07  25.798      1  2016\n"
     ]
    }
   ],
   "source": [
    "ts = ts.rename(columns = {'Date of Travel': 'Date'}, inplace = False)\n",
    "print(ts.head())"
   ]
  },
  {
   "cell_type": "code",
   "execution_count": 116,
   "metadata": {},
   "outputs": [],
   "source": [
    "#ts['Date'] = pd.to_datetime(ts['Date'])\n",
    "#print(ts['Date'])\n",
    "\n",
    "ts[\"Date\"]=pd.to_datetime(ts.Date,format='%d-%m-%Y')"
   ]
  },
  {
   "cell_type": "code",
   "execution_count": 201,
   "metadata": {},
   "outputs": [
    {
     "data": {
      "text/html": [
       "<div>\n",
       "<style scoped>\n",
       "    .dataframe tbody tr th:only-of-type {\n",
       "        vertical-align: middle;\n",
       "    }\n",
       "\n",
       "    .dataframe tbody tr th {\n",
       "        vertical-align: top;\n",
       "    }\n",
       "\n",
       "    .dataframe thead th {\n",
       "        text-align: right;\n",
       "    }\n",
       "</style>\n",
       "<table border=\"1\" class=\"dataframe\">\n",
       "  <thead>\n",
       "    <tr style=\"text-align: right;\">\n",
       "      <th></th>\n",
       "      <th>Date</th>\n",
       "      <th>Profit</th>\n",
       "      <th>month</th>\n",
       "      <th>year</th>\n",
       "    </tr>\n",
       "  </thead>\n",
       "  <tbody>\n",
       "    <tr>\n",
       "      <th>0</th>\n",
       "      <td>2016-01-08</td>\n",
       "      <td>57.315</td>\n",
       "      <td>1</td>\n",
       "      <td>2016</td>\n",
       "    </tr>\n",
       "    <tr>\n",
       "      <th>3</th>\n",
       "      <td>2016-01-06</td>\n",
       "      <td>23.666</td>\n",
       "      <td>1</td>\n",
       "      <td>2016</td>\n",
       "    </tr>\n",
       "    <tr>\n",
       "      <th>6</th>\n",
       "      <td>2018-10-27</td>\n",
       "      <td>25.096</td>\n",
       "      <td>10</td>\n",
       "      <td>2018</td>\n",
       "    </tr>\n",
       "    <tr>\n",
       "      <th>7</th>\n",
       "      <td>2016-01-02</td>\n",
       "      <td>27.568</td>\n",
       "      <td>1</td>\n",
       "      <td>2016</td>\n",
       "    </tr>\n",
       "    <tr>\n",
       "      <th>11</th>\n",
       "      <td>2016-01-07</td>\n",
       "      <td>25.798</td>\n",
       "      <td>1</td>\n",
       "      <td>2016</td>\n",
       "    </tr>\n",
       "  </tbody>\n",
       "</table>\n",
       "</div>"
      ],
      "text/plain": [
       "         Date  Profit  month  year\n",
       "0  2016-01-08  57.315      1  2016\n",
       "3  2016-01-06  23.666      1  2016\n",
       "6  2018-10-27  25.096     10  2018\n",
       "7  2016-01-02  27.568      1  2016\n",
       "11 2016-01-07  25.798      1  2016"
      ]
     },
     "execution_count": 201,
     "metadata": {},
     "output_type": "execute_result"
    }
   ],
   "source": [
    "ts.head()"
   ]
  },
  {
   "cell_type": "code",
   "execution_count": 150,
   "metadata": {},
   "outputs": [
    {
     "name": "stdout",
     "output_type": "stream",
     "text": [
      "         Date  Profit  month  year\n",
      "0  2016-01-08  57.315      1  2016\n",
      "3  2016-01-06  23.666      1  2016\n",
      "6  2018-10-27  25.096     10  2018\n",
      "7  2016-01-02  27.568      1  2016\n",
      "11 2016-01-07  25.798      1  2016\n"
     ]
    }
   ],
   "source": [
    "ts['month'] = pd.DatetimeIndex(ts['Date']).month\n",
    "ts['year'] = pd.DatetimeIndex(ts['Date']).year\n",
    "print(ts.head())"
   ]
  },
  {
   "cell_type": "code",
   "execution_count": 180,
   "metadata": {},
   "outputs": [
    {
     "data": {
      "image/png": "[encoded data removed]",
      "text/plain": [
       "<Figure size 432x288 with 1 Axes>"
      ]
     },
     "metadata": {
      "needs_background": "light"
     },
     "output_type": "display_data"
    }
   ],
   "source": [
    "ts_m=ts.groupby(['month','year'])[['Profit']].mean().unstack().plot(kind='bar')\n",
    "#plt.figure(figsize=(100,50))\n",
    "\n",
    "#print(ts_m)"
   ]
  },
  {
   "cell_type": "markdown",
   "metadata": {},
   "source": [
    "From above plot one can say that in Pink Cab profit starts at high but dips in May, June and again starts increasing reaches its max in december of each year."
   ]
  },
  {
   "cell_type": "code",
   "execution_count": 162,
   "metadata": {},
   "outputs": [
    {
     "name": "stdout",
     "output_type": "stream",
     "text": [
      "               Profit\n",
      "month year           \n",
      "1     2016  79.776551\n",
      "      2017  86.457326\n",
      "      2018  68.524514\n",
      "2     2016  83.310042\n",
      "      2017  76.904352\n",
      "      2018  64.305366\n",
      "3     2016  71.325088\n",
      "      2017  77.914371\n",
      "      2018  63.257279\n",
      "4     2016  66.606333\n",
      "      2017  61.861363\n",
      "      2018  52.535690\n",
      "5     2016  39.279488\n",
      "      2017  36.791777\n",
      "      2018  26.143758\n",
      "6     2016  41.100146\n",
      "      2017  48.632011\n",
      "      2018  29.220689\n",
      "7     2016  49.841288\n",
      "      2017  49.744968\n",
      "      2018  37.333323\n",
      "8     2016  57.910812\n",
      "      2017  51.671733\n",
      "      2018  42.115484\n",
      "9     2016  50.416756\n",
      "      2017  58.219668\n",
      "      2018  44.267811\n",
      "10    2016  72.020053\n",
      "      2017  69.432162\n",
      "      2018  55.893442\n",
      "11    2016  88.445925\n",
      "      2017  73.574774\n",
      "      2018  61.415892\n",
      "12    2016  97.118233\n",
      "      2017  94.677279\n",
      "      2018  75.159454\n"
     ]
    }
   ],
   "source": [
    "ts_m = pd.DataFrame(ts_m)\n",
    "print(ts_m)"
   ]
  },
  {
   "cell_type": "code",
   "execution_count": 132,
   "metadata": {},
   "outputs": [
    {
     "name": "stdout",
     "output_type": "stream",
     "text": [
      "            Profit\n",
      "Date              \n",
      "2016-01-02   117.0\n",
      "2016-01-03   204.0\n",
      "2016-01-04   107.0\n",
      "2016-01-05   124.0\n",
      "2016-01-06   102.0\n",
      "2016-01-07    52.0\n",
      "2016-01-08   108.0\n",
      "2016-01-09   117.0\n",
      "2016-01-10   106.0\n",
      "2016-01-11    65.0\n",
      "2016-01-12    59.0\n",
      "2016-01-13    41.0\n",
      "2016-01-14    38.0\n",
      "2016-01-15    47.0\n",
      "2016-01-16    69.0\n",
      "2016-01-17    68.0\n",
      "2016-01-18    57.0\n",
      "2016-01-19    17.0\n",
      "2016-01-20    20.0\n",
      "2016-01-21    51.0\n",
      "2016-01-22    47.0\n",
      "2016-01-23    70.0\n",
      "2016-01-24    58.0\n",
      "2016-01-25    41.0\n",
      "2016-01-26    42.0\n",
      "2016-01-27    37.0\n",
      "2016-01-28    48.0\n",
      "2016-01-29    19.0\n",
      "2016-01-30   108.0\n",
      "2016-01-31   102.0\n",
      "...            ...\n",
      "2018-12-02    75.0\n",
      "2018-12-03    54.0\n",
      "2018-12-04    53.0\n",
      "2018-12-05    49.0\n",
      "2018-12-06    55.0\n",
      "2018-12-07    79.0\n",
      "2018-12-08    86.0\n",
      "2018-12-09    60.0\n",
      "2018-12-10    62.0\n",
      "2018-12-11    66.0\n",
      "2018-12-12    64.0\n",
      "2018-12-13    61.0\n",
      "2018-12-14    83.0\n",
      "2018-12-15    84.0\n",
      "2018-12-16    68.0\n",
      "2018-12-17    60.0\n",
      "2018-12-18    58.0\n",
      "2018-12-19    56.0\n",
      "2018-12-20    58.0\n",
      "2018-12-21    98.0\n",
      "2018-12-22    84.0\n",
      "2018-12-23    60.0\n",
      "2018-12-24    56.0\n",
      "2018-12-25    63.0\n",
      "2018-12-26    64.0\n",
      "2018-12-27    65.0\n",
      "2018-12-28    85.0\n",
      "2018-12-29    99.0\n",
      "2018-12-30    72.0\n",
      "2018-12-31    77.0\n",
      "\n",
      "[1095 rows x 1 columns]\n"
     ]
    }
   ],
   "source": [
    "ts1 = ts.groupby(['Date'])[['Profit']].mean()\n",
    "print(ts1.round())\n",
    "\n"
   ]
  },
  {
   "cell_type": "code",
   "execution_count": 135,
   "metadata": {},
   "outputs": [
    {
     "name": "stdout",
     "output_type": "stream",
     "text": [
      "                Profit\n",
      "Date                  \n",
      "2016-01-02  117.302951\n",
      "2016-01-03  204.241962\n",
      "2016-01-04  107.147750\n",
      "2016-01-05  124.226500\n",
      "2016-01-06  101.607870\n",
      "2016-01-07   52.275083\n",
      "2016-01-08  107.506524\n",
      "2016-01-09  117.273158\n",
      "2016-01-10  106.155552\n",
      "2016-01-11   64.834538\n",
      "2016-01-12   59.387636\n",
      "2016-01-13   41.257250\n",
      "2016-01-14   37.611207\n",
      "2016-01-15   46.778833\n",
      "2016-01-16   69.104644\n",
      "2016-01-17   67.996186\n",
      "2016-01-18   56.526250\n",
      "2016-01-19   16.936053\n",
      "2016-01-20   20.148519\n",
      "2016-01-21   50.679217\n",
      "2016-01-22   47.439400\n",
      "2016-01-23   69.810070\n",
      "2016-01-24   57.968807\n",
      "2016-01-25   41.405800\n",
      "2016-01-26   42.123143\n",
      "2016-01-27   37.247941\n",
      "2016-01-28   47.912929\n",
      "2016-01-29   18.936190\n",
      "2016-01-30  107.734298\n",
      "2016-01-31  101.579000\n",
      "...                ...\n",
      "2018-12-02   74.786293\n",
      "2018-12-03   54.097797\n",
      "2018-12-04   53.310444\n",
      "2018-12-05   49.098866\n",
      "2018-12-06   55.266187\n",
      "2018-12-07   79.333396\n",
      "2018-12-08   85.569088\n",
      "2018-12-09   60.325527\n",
      "2018-12-10   62.268061\n",
      "2018-12-11   65.798886\n",
      "2018-12-12   64.008906\n",
      "2018-12-13   60.648419\n",
      "2018-12-14   82.768677\n",
      "2018-12-15   84.369473\n",
      "2018-12-16   68.419500\n",
      "2018-12-17   60.221377\n",
      "2018-12-18   58.375563\n",
      "2018-12-19   55.603892\n",
      "2018-12-20   58.485336\n",
      "2018-12-21   97.551240\n",
      "2018-12-22   83.729270\n",
      "2018-12-23   59.773420\n",
      "2018-12-24   55.522619\n",
      "2018-12-25   62.567203\n",
      "2018-12-26   63.857739\n",
      "2018-12-27   65.138333\n",
      "2018-12-28   85.156221\n",
      "2018-12-29   99.487174\n",
      "2018-12-30   71.768857\n",
      "2018-12-31   76.623379\n",
      "\n",
      "[1095 rows x 1 columns]\n"
     ]
    }
   ],
   "source": [
    "ts1 = pd.DataFrame(ts1)\n",
    "print(ts1)"
   ]
  },
  {
   "cell_type": "code",
   "execution_count": 139,
   "metadata": {},
   "outputs": [
    {
     "data": {
      "text/plain": [
       "DatetimeIndex(['2016-01-02', '2016-01-03', '2016-01-04', '2016-01-05',\n",
       "               '2016-01-06', '2016-01-07', '2016-01-08', '2016-01-09',\n",
       "               '2016-01-10', '2016-01-11',\n",
       "               ...\n",
       "               '2018-12-22', '2018-12-23', '2018-12-24', '2018-12-25',\n",
       "               '2018-12-26', '2018-12-27', '2018-12-28', '2018-12-29',\n",
       "               '2018-12-30', '2018-12-31'],\n",
       "              dtype='datetime64[ns]', name='Date', length=1095, freq=None)"
      ]
     },
     "execution_count": 139,
     "metadata": {},
     "output_type": "execute_result"
    }
   ],
   "source": [
    "ts1.index\n"
   ]
  },
  {
   "cell_type": "code",
   "execution_count": 142,
   "metadata": {},
   "outputs": [
    {
     "data": {
      "image/png": "[encoded data removed]",
      "text/plain": [
       "<Figure size 1152x576 with 1 Axes>"
      ]
     },
     "metadata": {
      "needs_background": "light"
     },
     "output_type": "display_data"
    }
   ],
   "source": [
    "#plt.plot(ts1,label='profit')\n",
    "\n",
    "plt.figure(figsize=(16,8))\n",
    "plt.plot(ts1,label='Daily Profit')\n",
    "plt.title('Time Series')\n",
    "plt.xlabel('Time year-month')\n",
    "plt.ylabel('Profit')\n",
    "plt.legend(loc='best')\n",
    "plt.show()"
   ]
  },
  {
   "cell_type": "code",
   "execution_count": 119,
   "metadata": {},
   "outputs": [
    {
     "name": "stdout",
     "output_type": "stream",
     "text": [
      "Date      datetime64[ns]\n",
      "Profit           float64\n",
      "dtype: object\n"
     ]
    }
   ],
   "source": [
    "print(ts.dtypes)"
   ]
  },
  {
   "cell_type": "code",
   "execution_count": 104,
   "metadata": {},
   "outputs": [
    {
     "name": "stdout",
     "output_type": "stream",
     "text": [
      "                 Date   Profit\n",
      "Date                          \n",
      "2016-08-01 2016-08-01   57.315\n",
      "2016-06-01 2016-06-01   23.666\n",
      "2018-10-27 2018-10-27   25.096\n",
      "2016-02-01 2016-02-01   27.568\n",
      "2016-07-01 2016-07-01   25.798\n",
      "2016-10-27 2016-10-27   37.292\n",
      "2018-11-05 2018-11-05   43.190\n",
      "2016-03-01 2016-03-01   16.844\n",
      "2016-07-01 2016-07-01    9.406\n",
      "2016-04-09 2016-04-09   59.890\n",
      "2017-07-19 2017-07-19   30.084\n",
      "2016-03-01 2016-03-01  100.950\n",
      "2016-07-01 2016-07-01   88.210\n",
      "2016-12-01 2016-12-01   44.730\n",
      "2017-09-26 2017-09-26   65.700\n",
      "2016-06-01 2016-06-01   43.724\n",
      "2017-08-11 2017-08-11  176.080\n",
      "2018-03-01 2018-03-01  108.750\n",
      "2018-05-24 2018-05-24   99.800\n",
      "2018-06-21 2018-06-21    5.614\n",
      "2016-11-01 2016-11-01   95.630\n",
      "2016-05-18 2016-05-18  -79.088\n",
      "2016-06-01 2016-06-01   97.090\n",
      "2016-07-21 2016-07-21   33.683\n",
      "2018-04-28 2018-04-28  101.610\n",
      "2016-11-01 2016-11-01   23.610\n",
      "2016-08-28 2016-08-28   11.352\n",
      "2018-10-11 2018-10-11    8.902\n",
      "2016-06-01 2016-06-01   78.900\n",
      "2016-03-04 2016-03-04  276.350\n",
      "...               ...      ...\n",
      "2018-01-01 2018-01-01   62.950\n",
      "2018-08-01 2018-08-01  107.968\n",
      "2018-01-01 2018-01-01   58.690\n",
      "2018-06-01 2018-06-01   89.530\n",
      "2018-05-01 2018-05-01  150.544\n",
      "2018-03-01 2018-03-01  101.790\n",
      "2018-05-01 2018-05-01  116.300\n",
      "2018-05-01 2018-05-01   16.872\n",
      "2018-05-01 2018-05-01  380.308\n",
      "2018-07-01 2018-07-01   50.872\n",
      "2018-05-01 2018-05-01   15.620\n",
      "2018-04-01 2018-04-01   49.755\n",
      "2018-05-01 2018-05-01  184.314\n",
      "2018-03-01 2018-03-01   84.528\n",
      "2018-07-01 2018-07-01   48.570\n",
      "2018-04-01 2018-04-01  103.424\n",
      "2018-05-01 2018-05-01  225.050\n",
      "2018-01-01 2018-01-01   40.348\n",
      "2018-05-01 2018-05-01   10.176\n",
      "2018-06-01 2018-06-01   26.872\n",
      "2018-05-01 2018-05-01   56.835\n",
      "2018-05-01 2018-05-01    4.200\n",
      "2018-04-01 2018-04-01    3.350\n",
      "2018-07-01 2018-07-01   43.558\n",
      "2018-05-01 2018-05-01   25.700\n",
      "2018-05-01 2018-05-01   91.627\n",
      "2018-02-01 2018-02-01   39.108\n",
      "2018-05-01 2018-05-01  121.593\n",
      "2018-05-01 2018-05-01   80.594\n",
      "2018-05-01 2018-05-01   24.350\n",
      "\n",
      "[84711 rows x 2 columns]\n"
     ]
    }
   ],
   "source": [
    "ts.index=ts['Date']\n",
    "print(ts)"
   ]
  },
  {
   "cell_type": "code",
   "execution_count": 189,
   "metadata": {},
   "outputs": [
    {
     "name": "stdout",
     "output_type": "stream",
     "text": [
      "   Customer ID  Transaction ID Date of Travel        City  KM Travelled  \\\n",
      "1        29290        10351127     21-07-2018  ATLANTA GA         26.19   \n",
      "2        29290        10412921     23-11-2018  ATLANTA GA         42.55   \n",
      "4        27703        10320494     21-04-2018  ATLANTA GA         36.38   \n",
      "5        27703        10324737     04-05-2018  ATLANTA GA          6.18   \n",
      "8        28712        10079404     21-09-2016  ATLANTA GA         39.60   \n",
      "\n",
      "   Price Charged  Cost of Trip Payment_Mode Gender  Age  Income (USD/Month)  \\\n",
      "1         598.70      317.4228         Cash   Male   28               10813   \n",
      "2         792.05      597.4020         Card   Male   28               10813   \n",
      "4         721.10      467.1192         Card   Male   27                9237   \n",
      "5         138.40       87.5088         Cash   Male   27                9237   \n",
      "8         704.30      494.2080         Card   Male   53               11242   \n",
      "\n",
      "     Profit  Profit per KM  \n",
      "1  281.2772      10.739870  \n",
      "2  194.6480       4.574571  \n",
      "4  253.9808       6.981330  \n",
      "5   50.8912       8.234822  \n",
      "8  210.0920       5.305354  \n"
     ]
    }
   ],
   "source": [
    "yellow_cab=df_company.get_group('Yellow Cab')\n",
    "print(yellow_cab.head())"
   ]
  },
  {
   "cell_type": "code",
   "execution_count": 190,
   "metadata": {},
   "outputs": [],
   "source": [
    "#Converting from Series to Dataframe\n",
    "yellow_cab = pd.DataFrame(yellow_cab)"
   ]
  },
  {
   "cell_type": "code",
   "execution_count": 206,
   "metadata": {},
   "outputs": [
    {
     "name": "stdout",
     "output_type": "stream",
     "text": [
      "7.105507808353085\n"
     ]
    }
   ],
   "source": [
    "Avg_profit_yellow = yellow_cab['Profit per KM'].mean()\n",
    "print(Avg_profit_yellow)"
   ]
  },
  {
   "cell_type": "code",
   "execution_count": 191,
   "metadata": {},
   "outputs": [
    {
     "name": "stdout",
     "output_type": "stream",
     "text": [
      "  Date of Travel    Profit\n",
      "1     21-07-2018  281.2772\n",
      "2     23-11-2018  194.6480\n",
      "4     21-04-2018  253.9808\n",
      "5     04-05-2018   50.8912\n",
      "8     21-09-2016  210.0920\n"
     ]
    }
   ],
   "source": [
    "ts_y = pd.DataFrame(yellow_cab,columns=['Date of Travel','Profit'])\n",
    "print(ts_y.head())"
   ]
  },
  {
   "cell_type": "code",
   "execution_count": 192,
   "metadata": {},
   "outputs": [
    {
     "name": "stdout",
     "output_type": "stream",
     "text": [
      "         Date    Profit\n",
      "1  21-07-2018  281.2772\n",
      "2  23-11-2018  194.6480\n",
      "4  21-04-2018  253.9808\n",
      "5  04-05-2018   50.8912\n",
      "8  21-09-2016  210.0920\n"
     ]
    }
   ],
   "source": [
    "ts_y = ts_y.rename(columns = {'Date of Travel': 'Date'}, inplace = False)\n",
    "print(ts_y.head())"
   ]
  },
  {
   "cell_type": "code",
   "execution_count": 193,
   "metadata": {},
   "outputs": [
    {
     "name": "stdout",
     "output_type": "stream",
     "text": [
      "        Date    Profit\n",
      "1 2018-07-21  281.2772\n",
      "2 2018-11-23  194.6480\n",
      "4 2018-04-21  253.9808\n",
      "5 2018-05-04   50.8912\n",
      "8 2016-09-21  210.0920\n"
     ]
    }
   ],
   "source": [
    "ts_y[\"Date\"]=pd.to_datetime(ts_y.Date,format='%d-%m-%Y')\n",
    "print(ts_y.head())"
   ]
  },
  {
   "cell_type": "code",
   "execution_count": 195,
   "metadata": {},
   "outputs": [
    {
     "data": {
      "text/plain": [
       "Date      datetime64[ns]\n",
       "Profit           float64\n",
       "dtype: object"
      ]
     },
     "execution_count": 195,
     "metadata": {},
     "output_type": "execute_result"
    }
   ],
   "source": [
    "ts_y.dtypes"
   ]
  },
  {
   "cell_type": "code",
   "execution_count": 196,
   "metadata": {},
   "outputs": [
    {
     "name": "stdout",
     "output_type": "stream",
     "text": [
      "         Date  Profit  month  year\n",
      "0  2016-01-08  57.315      1  2016\n",
      "3  2016-01-06  23.666      1  2016\n",
      "6  2018-10-27  25.096     10  2018\n",
      "7  2016-01-02  27.568      1  2016\n",
      "11 2016-01-07  25.798      1  2016\n"
     ]
    }
   ],
   "source": [
    "ts_y['month'] = pd.DatetimeIndex(ts_y['Date']).month\n",
    "ts_y['year'] = pd.DatetimeIndex(ts_y['Date']).year\n",
    "print(ts.head())"
   ]
  },
  {
   "cell_type": "code",
   "execution_count": 197,
   "metadata": {},
   "outputs": [
    {
     "data": {
      "image/png": "[encoded data removed]",
      "text/plain": [
       "<Figure size 432x288 with 1 Axes>"
      ]
     },
     "metadata": {
      "needs_background": "light"
     },
     "output_type": "display_data"
    }
   ],
   "source": [
    "ts_y=ts_y.groupby(['month','year'])[['Profit']].mean().unstack().plot(kind='bar')"
   ]
  },
  {
   "cell_type": "markdown",
   "metadata": {},
   "source": [
    "From above plot one can see there is no specific trend in yellow cab. Its profit is almost same alover the month in each year. "
   ]
  }
 ],
 "metadata": {
  "kernelspec": {
   "display_name": "Python 3",
   "language": "python",
   "name": "python3"
  },
  "language_info": {
   "codemirror_mode": {
    "name": "ipython",
    "version": 3
   },
   "file_extension": ".py",
   "mimetype": "text/x-python",
   "name": "python",
   "nbconvert_exporter": "python",
   "pygments_lexer": "ipython3",
   "version": "3.7.3"
  }
 },
 "nbformat": 4,
 "nbformat_minor": 2
}
